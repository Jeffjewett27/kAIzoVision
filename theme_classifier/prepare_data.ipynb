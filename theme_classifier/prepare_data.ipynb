{
 "metadata": {
  "language_info": {
   "codemirror_mode": {
    "name": "ipython",
    "version": 3
   },
   "file_extension": ".py",
   "mimetype": "text/x-python",
   "name": "python",
   "nbconvert_exporter": "python",
   "pygments_lexer": "ipython3",
   "version": 3
  },
  "orig_nbformat": 2
 },
 "nbformat": 4,
 "nbformat_minor": 2,
 "cells": [
  {
   "cell_type": "code",
   "execution_count": null,
   "metadata": {},
   "outputs": [],
   "source": [
    "from download_sources import *\n",
    "from summarize_data import *\n",
    "from create_folders import createImgDirs\n",
    "from video_splitter import split_video\n",
    "import sys"
   ]
  },
  {
   "source": [
    "This is a flag of whether to delete video sources after they've been processed."
   ],
   "cell_type": "markdown",
   "metadata": {}
  },
  {
   "cell_type": "code",
   "execution_count": null,
   "metadata": {},
   "outputs": [],
   "source": [
    "keepvideosources = False"
   ]
  },
  {
   "source": [
    "Creates the directories for the images to be sorted into."
   ],
   "cell_type": "markdown",
   "metadata": {}
  },
  {
   "cell_type": "code",
   "execution_count": null,
   "metadata": {},
   "outputs": [],
   "source": [
    "createImgDirs()"
   ]
  },
  {
   "source": [
    "Get the ids and ranges from the json sources."
   ],
   "cell_type": "markdown",
   "metadata": {}
  },
  {
   "cell_type": "code",
   "execution_count": null,
   "metadata": {},
   "outputs": [],
   "source": [
    "ids = getJSONFileIds(True)\n",
    "ranges = getRangeFrame(ids)"
   ]
  },
  {
   "source": [
    "For recording and checking sources that have been processed:"
   ],
   "cell_type": "markdown",
   "metadata": {}
  },
  {
   "cell_type": "code",
   "execution_count": null,
   "metadata": {},
   "outputs": [],
   "source": [
    "old_processed = readProcessedIds()\n",
    "processed = []"
   ]
  },
  {
   "source": [
    "The main loop for processing each source video:"
   ],
   "cell_type": "markdown",
   "metadata": {}
  },
  {
   "cell_type": "code",
   "execution_count": null,
   "metadata": {},
   "outputs": [],
   "source": [
    "def prepareVideo(id, frame):\n",
    "    download_video(id)\n",
    "    subset = frame[frame[\"Id\"] == id]\n",
    "    (ret,imgs) = split_video(id, frame)\n",
    "    print(f\"Video processed with image frame shape: {imgs.shape}\")\n",
    "    writeProcessedImgs(imgs)\n",
    "    if (ret):\n",
    "        writeProcessedIds([id])\n",
    "        processed.append(id)\n",
    "        appendRangeTable(subset)\n",
    "        frame.drop(subset,inplace=True)\n",
    "    if (not keepvideosources):\n",
    "        delete_video(id)"
   ]
  },
  {
   "source": [
    "Run the loop"
   ],
   "cell_type": "markdown",
   "metadata": {}
  },
  {
   "cell_type": "code",
   "execution_count": null,
   "metadata": {},
   "outputs": [],
   "source": [
    "for id in ids:\n",
    "    if not (id in old_processed):\n",
    "        prepareVideo(id, ranges)"
   ]
  }
 ]
}