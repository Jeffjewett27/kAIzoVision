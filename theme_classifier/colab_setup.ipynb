{
  "nbformat": 4,
  "nbformat_minor": 0,
  "metadata": {
    "orig_nbformat": 2,
    "colab": {
      "name": "colab_setup.ipynb",
      "provenance": []
    },
    "language_info": {
      "name": "python",
      "version": "3.8.3"
    },
    "kernelspec": {
      "name": "python383jvsc74a57bd0c2327c8c19ff06dbc8410b01c56b295c3da6e0cdf93d1be39b76f5e0bcd91be6",
      "display_name": "Python 3.8.3 64-bit"
    },
    "accelerator": "GPU"
  },
  "cells": [
    {
      "cell_type": "code",
      "metadata": {
        "id": "ok6AF-7uTCfz"
      },
      "source": [
        "import pandas as pd\n",
        "import os\n",
        "import zipfile\n",
        "from google.colab import drive"
      ],
      "execution_count": 49,
      "outputs": []
    },
    {
      "cell_type": "code",
      "metadata": {
        "id": "H7-kreXTtOV6"
      },
      "source": [
        "!git clone https://github.com/Jeffjewett27/kAIzoVision"
      ],
      "execution_count": null,
      "outputs": []
    },
    {
      "cell_type": "code",
      "metadata": {
        "colab": {
          "base_uri": "https://localhost:8080/"
        },
        "id": "6OvFOl8aNu84",
        "outputId": "58d6c899-8511-4db4-8d00-889af87551ea"
      },
      "source": [
        "#!git pull"
      ],
      "execution_count": 53,
      "outputs": [
        {
          "output_type": "stream",
          "text": [
            "remote: Enumerating objects: 7, done.\u001b[K\n",
            "remote: Counting objects:  14% (1/7)\u001b[K\rremote: Counting objects:  28% (2/7)\u001b[K\rremote: Counting objects:  42% (3/7)\u001b[K\rremote: Counting objects:  57% (4/7)\u001b[K\rremote: Counting objects:  71% (5/7)\u001b[K\rremote: Counting objects:  85% (6/7)\u001b[K\rremote: Counting objects: 100% (7/7)\u001b[K\rremote: Counting objects: 100% (7/7), done.\u001b[K\n",
            "remote: Compressing objects:  50% (1/2)\u001b[K\rremote: Compressing objects: 100% (2/2)\u001b[K\rremote: Compressing objects: 100% (2/2), done.\u001b[K\n",
            "remote: Total 4 (delta 2), reused 4 (delta 2), pack-reused 0\u001b[K\n",
            "Unpacking objects:  25% (1/4)   \rUnpacking objects:  50% (2/4)   \rUnpacking objects:  75% (3/4)   \rUnpacking objects: 100% (4/4)   \rUnpacking objects: 100% (4/4), done.\n",
            "From https://github.com/Jeffjewett27/kAIzoVision\n",
            "   b693503..bd556f0  main       -> origin/main\n",
            "Updating b693503..bd556f0\n",
            "Fast-forward\n",
            " theme_classifier/model.py | 3 \u001b[32m+\u001b[m\u001b[31m--\u001b[m\n",
            " 1 file changed, 1 insertion(+), 2 deletions(-)\n"
          ],
          "name": "stdout"
        }
      ]
    },
    {
      "cell_type": "code",
      "metadata": {
        "id": "lXGwq8BTJNG-"
      },
      "source": [
        "drive.mount('/content/drive/')"
      ],
      "execution_count": 10,
      "outputs": []
    },
    {
      "cell_type": "code",
      "execution_count": null,
      "metadata": {},
      "outputs": [],
      "source": [
        "data_ref = zipfile.ZipFile(\"/content/drive/MyDrive/MarioMaker/theme_dataset.zip\", 'r')\n",
        "data_ref.extractall(\"/content/kAIzoVision/theme_classifier/videos/\")\n",
        "data_ref.close()"
      ]
    },
    {
      "cell_type": "code",
      "metadata": {
        "id": "LYzbSl0YP96H"
      },
      "source": [
        "!cp /content/drive/MyDrive/MarioMaker/imageTable.csv /content/kAIzoVision/theme_classifier/video_data/\n",
        "imgs = pd.read_csv(\"/content/kAIzoVision/theme_classifier/video_data/imageTable.csv\")\n",
        "imgs.head()"
      ],
      "execution_count": 54,
      "outputs": []
    },
    {
      "cell_type": "code",
      "metadata": {
        "colab": {
          "base_uri": "https://localhost:8080/"
        },
        "id": "KC2SFaKYLHzU",
        "outputId": "729988f2-c864-4369-8491-01483f633d8a"
      },
      "source": [
        "%cd ./kAIzoVision/theme_classifier/"
      ],
      "execution_count": 16,
      "outputs": [
        {
          "output_type": "stream",
          "text": [
            "/content/kAIzoVision/theme_classifier\n"
          ],
          "name": "stdout"
        }
      ]
    },
    {
      "cell_type": "code",
      "execution_count": 7,
      "metadata": {},
      "outputs": [
        {
          "output_type": "stream",
          "name": "stdout",
          "text": [
            "c:\\Users\\jeffr\\Documents\\Projects\\MarioMaker\\theme_classifier\n.\\model/checkpoints\\theme.002-0.55.hdf5\n"
          ]
        }
      ],
      "source": [
        "from glob import glob\n",
        "import keras\n",
        "import os\n",
        "from model import get_trained_model\n",
        "\n",
        "class SaveToDriveCallback(keras.callbacks.Callback):\n",
        "    def on_epoch_end(self, logs=None):\n",
        "        basedir = \"/content/kAIzoVision/theme_classifier\"\n",
        "        checkpoints = glob(os.path.join(basedir, \"model/checkpoints/*.hdf5\"))\n",
        "        last_check = max(checkpoints, key=os.path.getctime)\n",
        "        print(\"saving checkpoint to drive:\", last_check)\n",
        "        path = os.path.join(basedir, last_check)\n",
        "        !cp $path /content/drive/MyDrive/MarioMaker/checkpoints/\n",
        "\n",
        "saver = SaveToDriveCallback()\n",
        "model = get_trained_model(custom_calls=[saver])"
      ]
    },
    {
      "cell_type": "code",
      "metadata": {
        "colab": {
          "base_uri": "https://localhost:8080/"
        },
        "id": "c3frRG8GMbTO",
        "outputId": "5cf2506f-9654-4dd0-814c-be342e9aea86"
      },
      "source": [
        "!python model.py"
      ],
      "execution_count": null,
      "outputs": [
        {
          "output_type": "stream",
          "text": [
            "2021-05-01 20:00:02.246467: I tensorflow/stream_executor/platform/default/dso_loader.cc:49] Successfully opened dynamic library libcudart.so.11.0\n",
            "./videos/images\n",
            "index        int64\n",
            "Filename    object\n",
            "Style       object\n",
            "Theme       object\n",
            "Time        object\n",
            "Train         bool\n",
            "dtype: object\n",
            "       index  ... Train\n",
            "0          0  ...  True\n",
            "1          1  ...  True\n",
            "2          2  ...  True\n",
            "3          3  ...  True\n",
            "4          4  ...  True\n",
            "...      ...  ...   ...\n",
            "33914  33914  ...  True\n",
            "33915  33915  ...  True\n",
            "33916  33916  ...  True\n",
            "33917  33917  ...  True\n",
            "33918  33918  ...  True\n",
            "\n",
            "[33919 rows x 6 columns]\n",
            "       index  ...  Train\n",
            "33919  33919  ...  False\n",
            "33920  33920  ...  False\n",
            "33921  33921  ...  False\n",
            "33922  33922  ...  False\n",
            "33923  33923  ...  False\n",
            "...      ...  ...    ...\n",
            "42579  42579  ...  False\n",
            "42580  42580  ...  False\n",
            "42581  42581  ...  False\n",
            "42582  42582  ...  False\n",
            "42583  42583  ...  False\n",
            "\n",
            "[8665 rows x 6 columns]\n",
            "Found 33919 validated image filenames.\n",
            "Found 8665 validated image filenames.\n",
            "got here2\n",
            "2021-05-01 20:00:05.410898: I tensorflow/compiler/jit/xla_cpu_device.cc:41] Not creating XLA devices, tf_xla_enable_xla_devices not set\n",
            "2021-05-01 20:00:05.412287: I tensorflow/stream_executor/platform/default/dso_loader.cc:49] Successfully opened dynamic library libcuda.so.1\n",
            "2021-05-01 20:00:05.424408: E tensorflow/stream_executor/cuda/cuda_driver.cc:328] failed call to cuInit: CUDA_ERROR_NO_DEVICE: no CUDA-capable device is detected\n",
            "2021-05-01 20:00:05.424504: I tensorflow/stream_executor/cuda/cuda_diagnostics.cc:156] kernel driver does not appear to be running on this host (eddd50585221): /proc/driver/nvidia/version does not exist\n",
            "2021-05-01 20:00:05.425139: I tensorflow/compiler/jit/xla_gpu_device.cc:99] Not creating XLA devices, tf_xla_enable_xla_devices not set\n",
            "gothere\n",
            "mffd called\n",
            "/usr/local/lib/python3.7/dist-packages/sklearn/preprocessing/_label.py:987: UserWarning: unknown class(es) [nan] will be ignored\n",
            "  .format(sorted(unknown, key=str)))\n",
            "2021-05-01 20:00:08.244792: I tensorflow/compiler/mlir/mlir_graph_optimization_pass.cc:116] None of the MLIR optimization passes are enabled (registered 2)\n",
            "2021-05-01 20:00:08.245196: I tensorflow/core/platform/profile_utils/cpu_utils.cc:112] CPU Frequency: 2299995000 Hz\n",
            "Epoch 1/5\n",
            "2021-05-01 20:00:08.987011: W tensorflow/core/framework/cpu_allocator_impl.cc:80] Allocation of 1073741824 exceeds 10% of free system memory.\n",
            "tcmalloc: large alloc 1073741824 bytes == 0x559bca302000 @  0x7fcc5c1dbb6b 0x7fcc5c1fb379 0x7fcc2bc46577 0x7fcc1e4e2c1f 0x7fcc1e56b24b 0x7fcc1e3b8a46 0x7fcc1e3b9a9c 0x7fcc1e3b9d27 0x7fcc250375fb 0x7fcc1e677bb0 0x7fcc22808481 0x7fcc22805173 0x7fcc1e7302d5 0x7fcc5bfae6db 0x7fcc5b0e371f\n",
            "tcmalloc: large alloc 2416017408 bytes == 0x559c3a302000 @  0x7fcc5c1f91e7 0x7fcc236b0605 0x7fcc23ea1295 0x7fcc24db651a 0x7fcc2502e3a9 0x7fcc2502fff7 0x7fcc25030fe9 0x7fcc25032e5e 0x7fcc250371b2 0x7fcc250376ef 0x7fcc1e677bb0 0x7fcc22808481 0x7fcc22805173 0x7fcc1e7302d5 0x7fcc5bfae6db 0x7fcc5b0e371f\n",
            "2021-05-01 20:00:34.678463: W tensorflow/core/framework/cpu_allocator_impl.cc:80] Allocation of 1073741824 exceeds 10% of free system memory.\n",
            "      1/Unknown - 30s 30s/step - loss: 1.7631 - binary_accuracy: 0.59722021-05-01 20:00:38.382711: W tensorflow/core/framework/cpu_allocator_impl.cc:80] Allocation of 1073741824 exceeds 10% of free system memory.\n",
            "tcmalloc: large alloc 2416017408 bytes == 0x559cd0322000 @  0x7fcc5c1f91e7 0x7fcc236b0605 0x7fcc23ea1295 0x7fcc24db651a 0x7fcc2502e3a9 0x7fcc2502fff7 0x7fcc25030fe9 0x7fcc25032e5e 0x7fcc250371b2 0x7fcc250376ef 0x7fcc1e677bb0 0x7fcc22808481 0x7fcc22805173 0x7fcc1e7302d5 0x7fcc5bfae6db 0x7fcc5b0e371f\n",
            "2021-05-01 20:01:05.120584: W tensorflow/core/framework/cpu_allocator_impl.cc:80] Allocation of 1073741824 exceeds 10% of free system memory.\n",
            "      2/Unknown - 61s 31s/step - loss: 1.4956 - binary_accuracy: 0.64932021-05-01 20:01:09.249772: W tensorflow/core/framework/cpu_allocator_impl.cc:80] Allocation of 1073741824 exceeds 10% of free system memory.\n",
            "tcmalloc: large alloc 2416017408 bytes == 0x559bca302000 @  0x7fcc5c1f91e7 0x7fcc236b0605 0x7fcc23ea1295 0x7fcc24db651a 0x7fcc2502e3a9 0x7fcc2502fff7 0x7fcc25030fe9 0x7fcc25032e5e 0x7fcc250371b2 0x7fcc250376ef 0x7fcc1e677bb0 0x7fcc22808481 0x7fcc22805173 0x7fcc1e7302d5 0x7fcc5bfae6db 0x7fcc5b0e371f\n"
          ],
          "name": "stdout"
        }
      ]
    },
    {
      "cell_type": "code",
      "execution_count": null,
      "metadata": {},
      "outputs": [],
      "source": [
        "!zip -r /content/drive/MyDrive/MarioMaker/model.zip ./model/*"
      ]
    },
    {
      "cell_type": "code",
      "execution_count": 1,
      "metadata": {},
      "outputs": [
        {
          "output_type": "stream",
          "name": "stdout",
          "text": [
            "0\n",
            "1\n",
            "2\n",
            "3\n"
          ]
        }
      ],
      "source": [
        "for i in range(4):\n",
        "    %echo $i"
      ]
    }
  ]
}