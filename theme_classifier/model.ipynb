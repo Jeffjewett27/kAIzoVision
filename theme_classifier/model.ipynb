{
 "metadata": {
  "language_info": {
   "codemirror_mode": {
    "name": "ipython",
    "version": 3
   },
   "file_extension": ".py",
   "mimetype": "text/x-python",
   "name": "python",
   "nbconvert_exporter": "python",
   "pygments_lexer": "ipython3",
   "version": 3
  },
  "orig_nbformat": 2
 },
 "nbformat": 4,
 "nbformat_minor": 2,
 "cells": [
  {
   "cell_type": "code",
   "execution_count": null,
   "metadata": {},
   "outputs": [],
   "source": [
    "import pandas as pd\n",
    "from keras.preprocessing.image import ImageDataGenerator\n",
    "from keras.callbacks import TensorBoard, ModelCheckpoint, EarlyStopping, CSVLogger\n",
    "from sklearn.preprocessing import MultiLabelBinarizer\n",
    "from categories import *\n",
    "import numpy as np\n",
    "from tensorflow import keras\n",
    "from tensorflow.keras import layers\n",
    "import os\n",
    "from pathlib import Path"
   ]
  },
  {
   "cell_type": "code",
   "execution_count": null,
   "metadata": {},
   "outputs": [],
   "source": [
    "table_path = os.path.join(Path(__file__).parent, 'video_data', 'imageTable.csv')\n",
    "imagedir = os.path.join(Path(__file__).parent, 'videos', 'images')"
   ]
  },
  {
   "source": [
    "Create the Scikit-learn MultiLabelBinarizer"
   ],
   "cell_type": "markdown",
   "metadata": {}
  },
  {
   "cell_type": "code",
   "execution_count": null,
   "metadata": {},
   "outputs": [],
   "source": [
    "labels = [(\"menu\",),tuple(decode_styles.values()),tuple(decode_themes.values()),(\"day\",\"night\")]\n",
    "classes = [x for t in labels for x in t ]\n",
    "mlb = MultiLabelBinarizer(classes=classes)\n",
    "mlb.fit(labels)\n"
   ]
  },
  {
   "source": [
    "Read the dataset"
   ],
   "cell_type": "markdown",
   "metadata": {}
  },
  {
   "cell_type": "code",
   "execution_count": null,
   "metadata": {},
   "outputs": [],
   "source": [
    "df = pd.read_csv(table_path)"
   ]
  },
  {
   "source": [
    "This function wraps flow_from_dataframe to accept a multilabelbinaraizer"
   ],
   "cell_type": "markdown",
   "metadata": {}
  },
  {
   "cell_type": "code",
   "execution_count": null,
   "metadata": {},
   "outputs": [],
   "source": [
    "def multilabel_flow_from_dataframe(data_generator, mlb):\n",
    "    print(\"mffd called\")\n",
    "    for x, y in data_generator:\n",
    "        assert isinstance(mlb, MultiLabelBinarizer), \\\n",
    "               \"MultiLabelBinarizer is required.\"\n",
    "        indices = y.astype(np.int).tolist()\n",
    "        rows = df.iloc[indices]\n",
    "        tup = rows.apply(lambda r: strip_tuple((r['Style'],r['Theme'],r['Time'])), axis=1)\n",
    "        y_multi = mlb.transform(\n",
    "             tup\n",
    "        )\n",
    "        yield x, y_multi"
   ]
  },
  {
   "cell_type": "code",
   "execution_count": null,
   "metadata": {},
   "outputs": [],
   "source": [
    "def get_generator(frame,mlb):\n",
    "    gen = image_data_generator.flow_from_dataframe(\n",
    "        dataframe=frame,\n",
    "        directory=imagedir,\n",
    "        x_col='Filename',\n",
    "        y_col='index',\n",
    "        class_mode='raw',\n",
    "        target_size=(512,512),\n",
    "        batch_size=32\n",
    "    )\n",
    "    return multilabel_flow_from_dataframe(gen, mlb)"
   ]
  },
  {
   "source": [
    "The CNN model"
   ],
   "cell_type": "markdown",
   "metadata": {}
  },
  {
   "cell_type": "code",
   "execution_count": null,
   "metadata": {},
   "outputs": [],
   "source": [
    "def prepare_model():\n",
    "    model = keras.Sequential([\n",
    "        # Block One\n",
    "        layers.Conv2D(filters=32, kernel_size=3, activation='relu', padding='same',\n",
    "                    input_shape=[512,512, 3]),\n",
    "        layers.MaxPool2D(),\n",
    "\n",
    "        # Block Two\n",
    "        layers.Conv2D(filters=64, kernel_size=3, activation='relu', padding='same'),\n",
    "        layers.MaxPool2D(),\n",
    "\n",
    "        # Block Three\n",
    "        layers.Conv2D(filters=128, kernel_size=3, activation='relu', padding='same'),\n",
    "        layers.Conv2D(filters=128, kernel_size=3, activation='relu', padding='same'),\n",
    "        layers.MaxPool2D(),\n",
    "\n",
    "        # Head\n",
    "        layers.Flatten(),\n",
    "        layers.Dense(6, activation='relu'),\n",
    "        layers.Dropout(0.2),\n",
    "        layers.Dense(18, activation='sigmoid'),\n",
    "    ])\n",
    "    model.compile(\n",
    "        optimizer=keras.optimizers.Adam(epsilon=0.01),\n",
    "        loss='binary_crossentropy',\n",
    "        metrics=['binary_accuracy']\n",
    "    )\n",
    "    return model"
   ]
  },
  {
   "source": [
    "Setup checkpoints and early stop"
   ],
   "cell_type": "markdown",
   "metadata": {}
  },
  {
   "cell_type": "code",
   "execution_count": null,
   "metadata": {},
   "outputs": [],
   "source": [
    "checkpointer = ModelCheckpoint(\n",
    "        filepath=os.path.join('model_data', 'checkpoints', 'theme_classifier' + \\\n",
    "            '.{epoch:03d}-{val_loss:.3f}.hdf5'),\n",
    "        verbose=1,\n",
    "        save_best_only=True)\n",
    "\n",
    "early_stopper = EarlyStopping(patience=5)\n",
    "\n",
    "tb = TensorBoard(log_dir=os.path.join('model_data', 'logs'))\n",
    "\n",
    "timestamp = time.time()\n",
    "csv_logger = CSVLogger(os.path.join('data', 'logs', 'theme_classifier-training-' + \\\n",
    "    str(timestamp) + '.log'))"
   ]
  },
  {
   "source": [
    "Set up the variables"
   ],
   "cell_type": "markdown",
   "metadata": {}
  },
  {
   "cell_type": "code",
   "execution_count": null,
   "metadata": {},
   "outputs": [],
   "source": [
    "train_df = df.loc[df['Train'].values]\n",
    "valid_df = df[(df['Train'].values) == False]\n",
    "\n",
    "train_generator = get_generator(train_df,mlb)\n",
    "valid_generator = get_generator(valid_df,mlb)"
   ]
  },
  {
   "source": [
    "Now run the model"
   ],
   "cell_type": "markdown",
   "metadata": {}
  },
  {
   "cell_type": "code",
   "execution_count": null,
   "metadata": {},
   "outputs": [],
   "source": [
    "model = prepare_model()\n",
    "\n",
    "model.fit(\n",
    "    train_generator,\n",
    "    validation_data = valid_generator,\n",
    "    callbacks=[tb, early_stopper, csv_logger, checkpointer],\n",
    "    epochs = 5\n",
    ")"
   ]
  }
 ]
}